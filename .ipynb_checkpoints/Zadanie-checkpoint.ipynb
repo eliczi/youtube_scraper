{
 "cells": [
  {
   "cell_type": "code",
   "execution_count": 41,
   "id": "6c6f6b70-5020-4969-9c67-149e8edd358c",
   "metadata": {},
   "outputs": [],
   "source": [
    "import pandas as pd\n",
    "import matplotlib.pyplot as plt\n",
    "import math"
   ]
  },
  {
   "cell_type": "code",
   "execution_count": 2,
   "id": "f2954e06-2135-48d4-a44f-b994cfdc3469",
   "metadata": {},
   "outputs": [],
   "source": [
    "xls = pd.ExcelFile('Zadanie projektowe_Lingaro_dane.xlsx')\n",
    "df1 = pd.read_excel(xls, 'Dostawca1')\n",
    "df2 = pd.read_excel(xls, 'Dostawca 2')\n",
    "df3 = pd.read_excel(xls, 'Dostawca 3')\n",
    "df4 = pd.read_excel(xls, 'Dostawca 4')\n",
    "df5 = pd.read_excel(xls, 'Dostawca 5')"
   ]
  },
  {
   "cell_type": "markdown",
   "id": "50f2a70d-809f-432a-9237-5bf2ec1996be",
   "metadata": {
    "tags": []
   },
   "source": [
    "## Z którym z pięciu aktualnych dostawców firma powinna zakończyć współpracę?\n",
    "Jednym ze sposobów na rozstrzygnięcie, z którego dostawcy zrezygnować jest wyznaczenie średniej ilości brakujących komponentów  i wyeliminowanie tego, u którego jest ona największa.\n",
    "<br>\n",
    "Innym rozwiązaniem jest wyznaczenie odchylenia standarowego dla każdego z dostawców. Im wyższy wynik, tym mniejsza konswekwencja w realizowaniu zamówień.\n"
   ]
  },
  {
   "cell_type": "code",
   "execution_count": 7,
   "id": "0f81cb80-c582-4c03-8b5e-fde94d022d8b",
   "metadata": {},
   "outputs": [
    {
     "data": {
      "text/html": [
       "<div>\n",
       "<style scoped>\n",
       "    .dataframe tbody tr th:only-of-type {\n",
       "        vertical-align: middle;\n",
       "    }\n",
       "\n",
       "    .dataframe tbody tr th {\n",
       "        vertical-align: top;\n",
       "    }\n",
       "\n",
       "    .dataframe thead th {\n",
       "        text-align: right;\n",
       "    }\n",
       "</style>\n",
       "<table border=\"1\" class=\"dataframe\">\n",
       "  <thead>\n",
       "    <tr style=\"text-align: right;\">\n",
       "      <th></th>\n",
       "      <th>supplier1</th>\n",
       "      <th>supplier2</th>\n",
       "      <th>supplier3</th>\n",
       "      <th>supplier4</th>\n",
       "      <th>supplier5</th>\n",
       "    </tr>\n",
       "  </thead>\n",
       "  <tbody>\n",
       "    <tr>\n",
       "      <th>count</th>\n",
       "      <td>365.000000</td>\n",
       "      <td>365.000000</td>\n",
       "      <td>365.000000</td>\n",
       "      <td>365.000000</td>\n",
       "      <td>365.000000</td>\n",
       "    </tr>\n",
       "    <tr>\n",
       "      <th>mean</th>\n",
       "      <td>499.936986</td>\n",
       "      <td>500.328767</td>\n",
       "      <td>496.643836</td>\n",
       "      <td>509.764384</td>\n",
       "      <td>506.364384</td>\n",
       "    </tr>\n",
       "    <tr>\n",
       "      <th>std</th>\n",
       "      <td>29.601824</td>\n",
       "      <td>9.903733</td>\n",
       "      <td>97.887266</td>\n",
       "      <td>210.827098</td>\n",
       "      <td>97.401070</td>\n",
       "    </tr>\n",
       "    <tr>\n",
       "      <th>min</th>\n",
       "      <td>421.000000</td>\n",
       "      <td>473.000000</td>\n",
       "      <td>218.000000</td>\n",
       "      <td>-84.000000</td>\n",
       "      <td>234.000000</td>\n",
       "    </tr>\n",
       "    <tr>\n",
       "      <th>25%</th>\n",
       "      <td>481.000000</td>\n",
       "      <td>494.000000</td>\n",
       "      <td>427.000000</td>\n",
       "      <td>358.000000</td>\n",
       "      <td>440.000000</td>\n",
       "    </tr>\n",
       "    <tr>\n",
       "      <th>50%</th>\n",
       "      <td>501.000000</td>\n",
       "      <td>500.000000</td>\n",
       "      <td>497.000000</td>\n",
       "      <td>516.000000</td>\n",
       "      <td>506.000000</td>\n",
       "    </tr>\n",
       "    <tr>\n",
       "      <th>75%</th>\n",
       "      <td>519.000000</td>\n",
       "      <td>507.000000</td>\n",
       "      <td>555.000000</td>\n",
       "      <td>661.000000</td>\n",
       "      <td>574.000000</td>\n",
       "    </tr>\n",
       "    <tr>\n",
       "      <th>max</th>\n",
       "      <td>573.000000</td>\n",
       "      <td>527.000000</td>\n",
       "      <td>762.000000</td>\n",
       "      <td>1120.000000</td>\n",
       "      <td>821.000000</td>\n",
       "    </tr>\n",
       "  </tbody>\n",
       "</table>\n",
       "</div>"
      ],
      "text/plain": [
       "        supplier1   supplier2   supplier3    supplier4   supplier5\n",
       "count  365.000000  365.000000  365.000000   365.000000  365.000000\n",
       "mean   499.936986  500.328767  496.643836   509.764384  506.364384\n",
       "std     29.601824    9.903733   97.887266   210.827098   97.401070\n",
       "min    421.000000  473.000000  218.000000   -84.000000  234.000000\n",
       "25%    481.000000  494.000000  427.000000   358.000000  440.000000\n",
       "50%    501.000000  500.000000  497.000000   516.000000  506.000000\n",
       "75%    519.000000  507.000000  555.000000   661.000000  574.000000\n",
       "max    573.000000  527.000000  762.000000  1120.000000  821.000000"
      ]
     },
     "execution_count": 7,
     "metadata": {},
     "output_type": "execute_result"
    }
   ],
   "source": [
    "suppliers = [df1, df2, df3, df4, df5]\n",
    "all_suppliers = pd.DataFrame()\n",
    "for i, df in enumerate(suppliers):\n",
    "    all_suppliers[f'supplier{i+1}'] = df['brakująca ilość']\n",
    "all_suppliers.describe()"
   ]
  },
  {
   "cell_type": "code",
   "execution_count": 19,
   "id": "54fd6c66-1d3d-4ca2-83b2-39b512821fb7",
   "metadata": {},
   "outputs": [
    {
     "data": {
      "text/plain": [
       "<AxesSubplot:title={'center':'Average number of missing component'}>"
      ]
     },
     "execution_count": 19,
     "metadata": {},
     "output_type": "execute_result"
    },
    {
     "data": {
      "image/png": "[encoded data removed]",
      "text/plain": [
       "<Figure size 432x288 with 1 Axes>"
      ]
     },
     "metadata": {
      "needs_background": "light"
     },
     "output_type": "display_data"
    }
   ],
   "source": [
    "all_suppliers.mean().plot(kind='bar',title='Average number of missing component', ylim=(490, 520))"
   ]
  },
  {
   "cell_type": "code",
   "execution_count": null,
   "id": "65668b48-c1f6-46bb-8da0-8d2e6de01285",
   "metadata": {},
   "outputs": [
    {
     "data": {
      "text/html": [
       "<div>\n",
       "<style scoped>\n",
       "    .dataframe tbody tr th:only-of-type {\n",
       "        vertical-align: middle;\n",
       "    }\n",
       "\n",
       "    .dataframe tbody tr th {\n",
       "        vertical-align: top;\n",
       "    }\n",
       "\n",
       "    .dataframe thead th {\n",
       "        text-align: right;\n",
       "    }\n",
       "</style>\n",
       "<table border=\"1\" class=\"dataframe\">\n",
       "  <thead>\n",
       "    <tr style=\"text-align: right;\">\n",
       "      <th></th>\n",
       "      <th>supplier1</th>\n",
       "      <th>supplier2</th>\n",
       "      <th>supplier3</th>\n",
       "      <th>supplier4</th>\n",
       "      <th>supplier5</th>\n",
       "    </tr>\n",
       "  </thead>\n",
       "  <tbody>\n",
       "    <tr>\n",
       "      <th>14</th>\n",
       "      <td>507</td>\n",
       "      <td>506</td>\n",
       "      <td>413</td>\n",
       "      <td>1120</td>\n",
       "      <td>646</td>\n",
       "    </tr>\n",
       "    <tr>\n",
       "      <th>83</th>\n",
       "      <td>521</td>\n",
       "      <td>497</td>\n",
       "      <td>427</td>\n",
       "      <td>1045</td>\n",
       "      <td>645</td>\n",
       "    </tr>\n",
       "    <tr>\n",
       "      <th>257</th>\n",
       "      <td>469</td>\n",
       "      <td>496</td>\n",
       "      <td>491</td>\n",
       "      <td>1031</td>\n",
       "      <td>447</td>\n",
       "    </tr>\n",
       "    <tr>\n",
       "      <th>193</th>\n",
       "      <td>536</td>\n",
       "      <td>488</td>\n",
       "      <td>438</td>\n",
       "      <td>1007</td>\n",
       "      <td>466</td>\n",
       "    </tr>\n",
       "    <tr>\n",
       "      <th>244</th>\n",
       "      <td>497</td>\n",
       "      <td>487</td>\n",
       "      <td>579</td>\n",
       "      <td>963</td>\n",
       "      <td>546</td>\n",
       "    </tr>\n",
       "  </tbody>\n",
       "</table>\n",
       "</div>"
      ],
      "text/plain": [
       "     supplier1  supplier2  supplier3  supplier4  supplier5\n",
       "14         507        506        413       1120        646\n",
       "83         521        497        427       1045        645\n",
       "257        469        496        491       1031        447\n",
       "193        536        488        438       1007        466\n",
       "244        497        487        579        963        546"
      ]
     },
     "execution_count": 60,
     "metadata": {},
     "output_type": "execute_result"
    }
   ],
   "source": [
    "all_suppliers.nlargest(n=5, columns=['supplier4'], keep='last')"
   ]
  },
  {
   "cell_type": "markdown",
   "id": "06d1c9eb-a027-44ca-a3fd-8a6b5dda26fc",
   "metadata": {},
   "source": [
    "## Wnioski\n",
    "Biorąc pod uwagę pierwsze kryterium, czyli średnią, najgorszym wynikiem jest wynik Dostawcy4(509.96), który również spełnia kryterium numer dwa, mając najwyższe odchylenie standardowe(210.82). \n",
    "<br>\n",
    "Firma powinna zakończyć z nim współpracę, chociaż jako jedyni dostarczyli jednego dnia więcej niż wynosiło zamówienie(min: -84)"
   ]
  },
  {
   "cell_type": "markdown",
   "id": "5b0c281c-d687-4ea7-9b7a-a2d1d5b36668",
   "metadata": {},
   "source": [
    "## U których dostawców firma powinna zwiększyć zamówienia?\n",
    "Aby odpowiedzieć na powyższe pytanie, można postąpić tak:\n",
    "    zakładając, że proporcja brakującej ilości komponentów nie zmniejszy się przy zwiększeniu zamówienia, możemy po prostu pomnożyć otrzymane średnie o 1.5(5000sztuk więcej)."
   ]
  },
  {
   "cell_type": "code",
   "execution_count": 11,
   "id": "4aac7655-fb6f-40f4-8d0b-e543ac301223",
   "metadata": {},
   "outputs": [
    {
     "data": {
      "text/plain": [
       "supplier1    749.905479\n",
       "supplier2    750.493151\n",
       "supplier3    744.965753\n",
       "supplier4    764.646575\n",
       "supplier5    759.546575\n",
       "dtype: float64"
      ]
     },
     "execution_count": 11,
     "metadata": {},
     "output_type": "execute_result"
    }
   ],
   "source": [
    "all_suppliers.mean() * 1.5"
   ]
  },
  {
   "cell_type": "code",
   "execution_count": 48,
   "id": "35d3e430-c722-4bc2-82a4-4506a8c86478",
   "metadata": {},
   "outputs": [
    {
     "data": {
      "text/plain": [
       "<BarContainer object of 5 artists>"
      ]
     },
     "execution_count": 48,
     "metadata": {},
     "output_type": "execute_result"
    },
    {
     "data": {
      "image/png": "[encoded data removed]",
      "text/plain": [
       "<Figure size 432x288 with 1 Axes>"
      ]
     },
     "metadata": {
      "needs_background": "light"
     },
     "output_type": "display_data"
    }
   ],
   "source": [
    "all_suppliers_15000 = all_suppliers.mean()*1.5\n",
    "indexes = all_suppliers_15000.index\n",
    "values = all_suppliers_15000.values\n",
    "plt.ylim([740, 770])\n",
    "plt.bar(indexes, values)"
   ]
  },
  {
   "cell_type": "markdown",
   "id": "462572c4-f06b-46e6-ab45-97a90d57ecdd",
   "metadata": {},
   "source": [
    "## Wnioski\n",
    "Z powyższego założenia wynika, że firma powinna zwiększyć zamówienia u dostawcy 1 oraz 3, ponieważ zakładana średnią przy zwiększeniu liczby zamówień, jest u nich najmniejsza. \n",
    "<br>\n",
    "Jesli zaś chodzi o dostawcę numer 2, zakładając że firma dba równiez o konsekwencje w ilości dostarczanych komponentów, może być on brany pod uwagę."
   ]
  },
  {
   "cell_type": "code",
   "execution_count": null,
   "id": "139a4e8f-220f-4a40-8bef-8aafdb75eaad",
   "metadata": {},
   "outputs": [],
   "source": []
  }
 ],
 "metadata": {
  "kernelspec": {
   "display_name": "Python 3 (ipykernel)",
   "language": "python",
   "name": "python3"
  },
  "language_info": {
   "codemirror_mode": {
    "name": "ipython",
    "version": 3
   },
   "file_extension": ".py",
   "mimetype": "text/x-python",
   "name": "python",
   "nbconvert_exporter": "python",
   "pygments_lexer": "ipython3",
   "version": "3.10.4"
  }
 },
 "nbformat": 4,
 "nbformat_minor": 5
}
